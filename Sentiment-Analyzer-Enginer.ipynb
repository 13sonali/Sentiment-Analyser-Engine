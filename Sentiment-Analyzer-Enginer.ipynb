{
 "cells": [
  {
   "cell_type": "code",
   "execution_count": 5,
   "metadata": {},
   "outputs": [],
   "source": [
    "import tweepy, re\n",
    "from textblob import TextBlob\n",
    "import matplotlib.pyplot as plt\n",
    "import pandas as pd\n",
    "from nltk.tokenize import word_tokenize\n",
    "from nltk.stem import WordNetLemmatizer\n",
    "from nltk.corpus import stopwords"
   ]
  },
  {
   "cell_type": "code",
   "execution_count": 6,
   "metadata": {},
   "outputs": [],
   "source": [
    "#authentication\n",
    "consumerKey = 'Javavx8YLf0TLDcsSQZlnPMN5'\n",
    "consumerSecret = 'vzzeLqEJx2sGSyZu2UnH4T7w4MPYH6yxRLfGI5WQXdPjfRY5R6'\n",
    "accessToken = '1316978914544164869-eLoidJJgknQSPcmGlfSCYwM3jJwCJ7'\n",
    "accessTokenSecret ='rRCNvNHPQfGtgdsGbA0dDNkeXhUoULHk3P76Adi7tR1kt'\n",
    "auth = tweepy.OAuthHandler(consumerKey, consumerSecret)\n",
    "auth.set_access_token(accessToken, accessTokenSecret)\n",
    "api = tweepy.API(auth)"
   ]
  },
  {
   "cell_type": "code",
   "execution_count": 7,
   "metadata": {},
   "outputs": [
    {
     "name": "stdout",
     "output_type": "stream",
     "text": [
      "Enter Keyword/Tag to search about: Anushka Sharma\n",
      "Enter how many tweets to be searched: 20\n"
     ]
    }
   ],
   "source": [
    "#input for term to be searched and how many tweets to search\n",
    "searchTerm = input(\"Enter Keyword/Tag to search about: \")\n",
    "NoOfTerms = int(input(\"Enter how many tweets to be searched: \"))\n",
    "\n",
    "tweets = []\n",
    "tweetText = []\n",
    "\n",
    "#searching for tweets\n",
    "tweets = tweepy.Cursor(api.search, q=searchTerm+\" -filter:retweets\", lang = 'en').items(NoOfTerms)"
   ]
  },
  {
   "cell_type": "code",
   "execution_count": 8,
   "metadata": {},
   "outputs": [
    {
     "data": {
      "text/html": [
       "<div>\n",
       "<style scoped>\n",
       "    .dataframe tbody tr th:only-of-type {\n",
       "        vertical-align: middle;\n",
       "    }\n",
       "\n",
       "    .dataframe tbody tr th {\n",
       "        vertical-align: top;\n",
       "    }\n",
       "\n",
       "    .dataframe thead th {\n",
       "        text-align: right;\n",
       "    }\n",
       "</style>\n",
       "<table border=\"1\" class=\"dataframe\">\n",
       "  <thead>\n",
       "    <tr style=\"text-align: right;\">\n",
       "      <th></th>\n",
       "      <th>0</th>\n",
       "    </tr>\n",
       "  </thead>\n",
       "  <tbody>\n",
       "    <tr>\n",
       "      <th>0</th>\n",
       "      <td>test4 Some \"Nice Photos\" Of Anushka Sharma Fro...</td>\n",
       "    </tr>\n",
       "    <tr>\n",
       "      <th>1</th>\n",
       "      <td>Athiya Shetty turns photographer as Anushka Sh...</td>\n",
       "    </tr>\n",
       "    <tr>\n",
       "      <th>2</th>\n",
       "      <td>hey universe I'm once again asking for Hrithik...</td>\n",
       "    </tr>\n",
       "    <tr>\n",
       "      <th>3</th>\n",
       "      <td>10 hottest scenes of #AnushkaSharma https://t....</td>\n",
       "    </tr>\n",
       "    <tr>\n",
       "      <th>4</th>\n",
       "      <td>Anushka Sharma turns muse for new BFF Athiya S...</td>\n",
       "    </tr>\n",
       "    <tr>\n",
       "      <th>5</th>\n",
       "      <td>Athiya Shetty turns photographer as Anushka Sh...</td>\n",
       "    </tr>\n",
       "    <tr>\n",
       "      <th>6</th>\n",
       "      <td>Beautiful pictures of smiling and smiling Anus...</td>\n",
       "    </tr>\n",
       "    <tr>\n",
       "      <th>7</th>\n",
       "      <td>Anushka Sharma turns muse for Athiya Shetty ov...</td>\n",
       "    </tr>\n",
       "    <tr>\n",
       "      <th>8</th>\n",
       "      <td>Athiya Shetty turns photographer as Anushka Sh...</td>\n",
       "    </tr>\n",
       "    <tr>\n",
       "      <th>9</th>\n",
       "      <td>Athiya Shetty turns photographer as Anushka Sh...</td>\n",
       "    </tr>\n",
       "    <tr>\n",
       "      <th>10</th>\n",
       "      <td>Anushka Sharma is in love with India's star we...</td>\n",
       "    </tr>\n",
       "    <tr>\n",
       "      <th>11</th>\n",
       "      <td>Athiya Shetty turns photographer as Anushka Sh...</td>\n",
       "    </tr>\n",
       "    <tr>\n",
       "      <th>12</th>\n",
       "      <td>#AthiyaShetty turns photographer for #AnushkaS...</td>\n",
       "    </tr>\n",
       "    <tr>\n",
       "      <th>13</th>\n",
       "      <td>Beautiful pictures of smiling and smiling Anus...</td>\n",
       "    </tr>\n",
       "    <tr>\n",
       "      <th>14</th>\n",
       "      <td>Any One Wants to be my Anushka Sharma ?😔👸</td>\n",
       "    </tr>\n",
       "    <tr>\n",
       "      <th>15</th>\n",
       "      <td>@TohMeinKyaKaru Great to hear 😇 Anushka Sharma</td>\n",
       "    </tr>\n",
       "    <tr>\n",
       "      <th>16</th>\n",
       "      <td>Anushka Sharma Has Shared New Pictures From Th...</td>\n",
       "    </tr>\n",
       "    <tr>\n",
       "      <th>17</th>\n",
       "      <td>Some “Nice Photos” Of Anushka Sharma From Her ...</td>\n",
       "    </tr>\n",
       "    <tr>\n",
       "      <th>18</th>\n",
       "      <td>Athiya Shetty turns photographer for Anushka S...</td>\n",
       "    </tr>\n",
       "    <tr>\n",
       "      <th>19</th>\n",
       "      <td>Anushka Sharma drops beautiful pics from her o...</td>\n",
       "    </tr>\n",
       "  </tbody>\n",
       "</table>\n",
       "</div>"
      ],
      "text/plain": [
       "                                                    0\n",
       "0   test4 Some \"Nice Photos\" Of Anushka Sharma Fro...\n",
       "1   Athiya Shetty turns photographer as Anushka Sh...\n",
       "2   hey universe I'm once again asking for Hrithik...\n",
       "3   10 hottest scenes of #AnushkaSharma https://t....\n",
       "4   Anushka Sharma turns muse for new BFF Athiya S...\n",
       "5   Athiya Shetty turns photographer as Anushka Sh...\n",
       "6   Beautiful pictures of smiling and smiling Anus...\n",
       "7   Anushka Sharma turns muse for Athiya Shetty ov...\n",
       "8   Athiya Shetty turns photographer as Anushka Sh...\n",
       "9   Athiya Shetty turns photographer as Anushka Sh...\n",
       "10  Anushka Sharma is in love with India's star we...\n",
       "11  Athiya Shetty turns photographer as Anushka Sh...\n",
       "12  #AthiyaShetty turns photographer for #AnushkaS...\n",
       "13  Beautiful pictures of smiling and smiling Anus...\n",
       "14          Any One Wants to be my Anushka Sharma ?😔👸\n",
       "15     @TohMeinKyaKaru Great to hear 😇 Anushka Sharma\n",
       "16  Anushka Sharma Has Shared New Pictures From Th...\n",
       "17  Some “Nice Photos” Of Anushka Sharma From Her ...\n",
       "18  Athiya Shetty turns photographer for Anushka S...\n",
       "19  Anushka Sharma drops beautiful pics from her o..."
      ]
     },
     "execution_count": 8,
     "metadata": {},
     "output_type": "execute_result"
    }
   ],
   "source": [
    "tweet_list = [tweet.text for tweet in tweets]\n",
    "tweet_df = pd.DataFrame(tweet_list)\n",
    "tweet_df"
   ]
  },
  {
   "cell_type": "code",
   "execution_count": 9,
   "metadata": {},
   "outputs": [],
   "source": [
    "def clean_data(text):\n",
    "    return ' '.join(re.sub(\"(@[a-zA-Z0-9]+)|([^0-9A-Za-z])|(https://[\\w.]+/[\\w]+)\", \" \", text).split())\n",
    "\n",
    "tweet_df['cleaned_data'] = tweet_df[0].apply(clean_data)"
   ]
  },
  {
   "cell_type": "code",
   "execution_count": 10,
   "metadata": {},
   "outputs": [
    {
     "data": {
      "text/html": [
       "<div>\n",
       "<style scoped>\n",
       "    .dataframe tbody tr th:only-of-type {\n",
       "        vertical-align: middle;\n",
       "    }\n",
       "\n",
       "    .dataframe tbody tr th {\n",
       "        vertical-align: top;\n",
       "    }\n",
       "\n",
       "    .dataframe thead th {\n",
       "        text-align: right;\n",
       "    }\n",
       "</style>\n",
       "<table border=\"1\" class=\"dataframe\">\n",
       "  <thead>\n",
       "    <tr style=\"text-align: right;\">\n",
       "      <th></th>\n",
       "      <th>0</th>\n",
       "      <th>cleaned_data</th>\n",
       "    </tr>\n",
       "  </thead>\n",
       "  <tbody>\n",
       "    <tr>\n",
       "      <th>0</th>\n",
       "      <td>test4 Some \"Nice Photos\" Of Anushka Sharma Fro...</td>\n",
       "      <td>test4 Some Nice Photos Of Anushka Sharma From ...</td>\n",
       "    </tr>\n",
       "    <tr>\n",
       "      <th>1</th>\n",
       "      <td>Athiya Shetty turns photographer as Anushka Sh...</td>\n",
       "      <td>Athiya Shetty turns photographer as Anushka Sh...</td>\n",
       "    </tr>\n",
       "    <tr>\n",
       "      <th>2</th>\n",
       "      <td>hey universe I'm once again asking for Hrithik...</td>\n",
       "      <td>hey universe I m once again asking for Hrithik...</td>\n",
       "    </tr>\n",
       "    <tr>\n",
       "      <th>3</th>\n",
       "      <td>10 hottest scenes of #AnushkaSharma https://t....</td>\n",
       "      <td>10 hottest scenes of AnushkaSharma</td>\n",
       "    </tr>\n",
       "    <tr>\n",
       "      <th>4</th>\n",
       "      <td>Anushka Sharma turns muse for new BFF Athiya S...</td>\n",
       "      <td>Anushka Sharma turns muse for new BFF Athiya S...</td>\n",
       "    </tr>\n",
       "  </tbody>\n",
       "</table>\n",
       "</div>"
      ],
      "text/plain": [
       "                                                   0  \\\n",
       "0  test4 Some \"Nice Photos\" Of Anushka Sharma Fro...   \n",
       "1  Athiya Shetty turns photographer as Anushka Sh...   \n",
       "2  hey universe I'm once again asking for Hrithik...   \n",
       "3  10 hottest scenes of #AnushkaSharma https://t....   \n",
       "4  Anushka Sharma turns muse for new BFF Athiya S...   \n",
       "\n",
       "                                        cleaned_data  \n",
       "0  test4 Some Nice Photos Of Anushka Sharma From ...  \n",
       "1  Athiya Shetty turns photographer as Anushka Sh...  \n",
       "2  hey universe I m once again asking for Hrithik...  \n",
       "3                 10 hottest scenes of AnushkaSharma  \n",
       "4  Anushka Sharma turns muse for new BFF Athiya S...  "
      ]
     },
     "execution_count": 10,
     "metadata": {},
     "output_type": "execute_result"
    }
   ],
   "source": [
    "tweet_df.head()"
   ]
  },
  {
   "cell_type": "code",
   "execution_count": 11,
   "metadata": {},
   "outputs": [],
   "source": [
    "def drop_numbers(list_text):\n",
    "    list_text_new = []\n",
    "    for i in list_text:\n",
    "        if not re.search('\\d', i):\n",
    "            list_text_new.append(i)\n",
    "    return ''.join(list_text_new)\n",
    "\n",
    "tweet_df['cleaned_data'] = tweet_df['cleaned_data'].apply(drop_numbers)"
   ]
  },
  {
   "cell_type": "code",
   "execution_count": 12,
   "metadata": {},
   "outputs": [
    {
     "data": {
      "text/html": [
       "<div>\n",
       "<style scoped>\n",
       "    .dataframe tbody tr th:only-of-type {\n",
       "        vertical-align: middle;\n",
       "    }\n",
       "\n",
       "    .dataframe tbody tr th {\n",
       "        vertical-align: top;\n",
       "    }\n",
       "\n",
       "    .dataframe thead th {\n",
       "        text-align: right;\n",
       "    }\n",
       "</style>\n",
       "<table border=\"1\" class=\"dataframe\">\n",
       "  <thead>\n",
       "    <tr style=\"text-align: right;\">\n",
       "      <th></th>\n",
       "      <th>0</th>\n",
       "      <th>cleaned_data</th>\n",
       "    </tr>\n",
       "  </thead>\n",
       "  <tbody>\n",
       "    <tr>\n",
       "      <th>0</th>\n",
       "      <td>test4 Some \"Nice Photos\" Of Anushka Sharma Fro...</td>\n",
       "      <td>test Some Nice Photos Of Anushka Sharma From H...</td>\n",
       "    </tr>\n",
       "    <tr>\n",
       "      <th>1</th>\n",
       "      <td>Athiya Shetty turns photographer as Anushka Sh...</td>\n",
       "      <td>Athiya Shetty turns photographer as Anushka Sh...</td>\n",
       "    </tr>\n",
       "    <tr>\n",
       "      <th>2</th>\n",
       "      <td>hey universe I'm once again asking for Hrithik...</td>\n",
       "      <td>hey universe I m once again asking for Hrithik...</td>\n",
       "    </tr>\n",
       "    <tr>\n",
       "      <th>3</th>\n",
       "      <td>10 hottest scenes of #AnushkaSharma https://t....</td>\n",
       "      <td>hottest scenes of AnushkaSharma</td>\n",
       "    </tr>\n",
       "    <tr>\n",
       "      <th>4</th>\n",
       "      <td>Anushka Sharma turns muse for new BFF Athiya S...</td>\n",
       "      <td>Anushka Sharma turns muse for new BFF Athiya S...</td>\n",
       "    </tr>\n",
       "  </tbody>\n",
       "</table>\n",
       "</div>"
      ],
      "text/plain": [
       "                                                   0  \\\n",
       "0  test4 Some \"Nice Photos\" Of Anushka Sharma Fro...   \n",
       "1  Athiya Shetty turns photographer as Anushka Sh...   \n",
       "2  hey universe I'm once again asking for Hrithik...   \n",
       "3  10 hottest scenes of #AnushkaSharma https://t....   \n",
       "4  Anushka Sharma turns muse for new BFF Athiya S...   \n",
       "\n",
       "                                        cleaned_data  \n",
       "0  test Some Nice Photos Of Anushka Sharma From H...  \n",
       "1  Athiya Shetty turns photographer as Anushka Sh...  \n",
       "2  hey universe I m once again asking for Hrithik...  \n",
       "3                    hottest scenes of AnushkaSharma  \n",
       "4  Anushka Sharma turns muse for new BFF Athiya S...  "
      ]
     },
     "execution_count": 12,
     "metadata": {},
     "output_type": "execute_result"
    }
   ],
   "source": [
    "tweet_df.head()"
   ]
  },
  {
   "cell_type": "code",
   "execution_count": 15,
   "metadata": {},
   "outputs": [],
   "source": [
    "# changing all the words of the reviews column to lowercase letters\n",
    "def lower_case(text):\n",
    "    text_words = word_tokenize(text)\n",
    "    text_words_lower = [x.lower() for x in text_words]\n",
    "    return ' '.join(text_words_lower)\n",
    "\n",
    "tweet_df['cleaned_data'] = tweet_df['cleaned_data'].apply(lower_case)"
   ]
  },
  {
   "cell_type": "code",
   "execution_count": 16,
   "metadata": {},
   "outputs": [],
   "source": [
    "lemmatizer = WordNetLemmatizer()\n",
    "def lemmatise(text):\n",
    "    text_tokens = word_tokenize(text)\n",
    "    text_lemm = [lemmatizer.lemmatize(word) for word in text_tokens]\n",
    "    return ' '.join(text_lemm)\n",
    "\n",
    "tweet_df['cleaned_data'] = tweet_df['cleaned_data'].apply(lemmatise)"
   ]
  },
  {
   "cell_type": "code",
   "execution_count": 17,
   "metadata": {},
   "outputs": [
    {
     "data": {
      "text/plain": [
       "array(['test some nice photo of anushka sharma from her outing with friend athiya',\n",
       "       'athiya shetty turn photographer a anushka sharma drop some nice photo',\n",
       "       'hey universe i m once again asking for hrithik roshan and anushka sharma in a romantic movie together',\n",
       "       'hottest scene of anushkasharma',\n",
       "       'anushka sharma turn muse for new bff athiya shetty share pic from uk people news',\n",
       "       'athiya shetty turn photographer a anushka sharma drop some nice photo',\n",
       "       'beautiful picture of smiling and smiling anushka sharma surfaced from london vamika wa not seen',\n",
       "       'anushka sharma turn muse for athiya shetty over weekend in london via',\n",
       "       'athiya shetty turn photographer a anushka sharma drop some nice photo',\n",
       "       'athiya shetty turn photographer a anushka sharma drop some nice photo',\n",
       "       'anushka sharma is in love with india s star weightlifter mirabai chanu s olympic ring shaped earring gifted by her',\n",
       "       'athiya shetty turn photographer a anushka sharma drop some nice photo via',\n",
       "       'athiyashetty turn photographer for anushkasharma in england',\n",
       "       'beautiful picture of smiling and smiling anushka sharma surfaced from london vamika wa not seen',\n",
       "       'any one want to be my anushka sharma',\n",
       "       'great to hear anushka sharma',\n",
       "       'anushka sharma ha shared new picture from the united kingdom but vamika is missing',\n",
       "       'some nice photo of anushka sharma from her outing with friend athiya shetty',\n",
       "       'athiya shetty turn photographer for anushka sharma a they stroll the lane of uk',\n",
       "       'anushka sharma drop beautiful pic from her outing with athiya shetty thespuzz'],\n",
       "      dtype=object)"
      ]
     },
     "execution_count": 17,
     "metadata": {},
     "output_type": "execute_result"
    }
   ],
   "source": [
    "tweet_df['cleaned_data'].values"
   ]
  },
  {
   "cell_type": "code",
   "execution_count": 19,
   "metadata": {},
   "outputs": [],
   "source": [
    "def remove_stopword(text):\n",
    "    text_tokens = word_tokenize(text)\n",
    "    tokens = [word for word in text_tokens if not word in set(stopwords.words('english'))]\n",
    "    tokens_text = ' '.join(tokens)\n",
    "    return tokens_text\n",
    "\n",
    "tweet_df['cleaned_data'] = tweet_df['cleaned_data'].apply(remove_stopword)"
   ]
  },
  {
   "cell_type": "code",
   "execution_count": 20,
   "metadata": {},
   "outputs": [
    {
     "data": {
      "text/plain": [
       "array(['test nice photo anushka sharma outing friend athiya',\n",
       "       'athiya shetty turn photographer anushka sharma drop nice photo',\n",
       "       'hey universe asking hrithik roshan anushka sharma romantic movie together',\n",
       "       'hottest scene anushkasharma',\n",
       "       'anushka sharma turn muse new bff athiya shetty share pic uk people news',\n",
       "       'athiya shetty turn photographer anushka sharma drop nice photo',\n",
       "       'beautiful picture smiling smiling anushka sharma surfaced london vamika wa seen',\n",
       "       'anushka sharma turn muse athiya shetty weekend london via',\n",
       "       'athiya shetty turn photographer anushka sharma drop nice photo',\n",
       "       'athiya shetty turn photographer anushka sharma drop nice photo',\n",
       "       'anushka sharma love india star weightlifter mirabai chanu olympic ring shaped earring gifted',\n",
       "       'athiya shetty turn photographer anushka sharma drop nice photo via',\n",
       "       'athiyashetty turn photographer anushkasharma england',\n",
       "       'beautiful picture smiling smiling anushka sharma surfaced london vamika wa seen',\n",
       "       'one want anushka sharma', 'great hear anushka sharma',\n",
       "       'anushka sharma ha shared new picture united kingdom vamika missing',\n",
       "       'nice photo anushka sharma outing friend athiya shetty',\n",
       "       'athiya shetty turn photographer anushka sharma stroll lane uk',\n",
       "       'anushka sharma drop beautiful pic outing athiya shetty thespuzz'],\n",
       "      dtype=object)"
      ]
     },
     "execution_count": 20,
     "metadata": {},
     "output_type": "execute_result"
    }
   ],
   "source": [
    "tweet_df['cleaned_data'].values"
   ]
  },
  {
   "cell_type": "code",
   "execution_count": 21,
   "metadata": {},
   "outputs": [],
   "source": [
    "# Lets calculate the Polarity of the Reviews\n",
    "def get_polarity(text):\n",
    "    textblob = TextBlob(str(text))\n",
    "    pol = textblob.sentiment.polarity\n",
    "    if(pol==0):\n",
    "        return \"Neutral\"\n",
    "    elif(pol>0 and pol<=0.3):\n",
    "        return \"Weakly Positive\"\n",
    "    elif(pol>0.3 and pol<=0.6):\n",
    "        return \"Positive\"\n",
    "    elif(pol>0.6 and pol<=1):\n",
    "        return \"Strongly Positive\"\n",
    "    elif(pol>-0.3 and pol<=0):\n",
    "        return \"Weakly Negative\"\n",
    "    elif(pol>-0.6 and pol<=-0.3):\n",
    "        return \"Negative\"\n",
    "    elif(pol>-1 and pol<=-0.6):\n",
    "        return \"Strongly Negative\"\n",
    "    \n",
    "tweet_df['polarity'] = tweet_df['cleaned_data'].apply(get_polarity)"
   ]
  },
  {
   "cell_type": "code",
   "execution_count": 22,
   "metadata": {},
   "outputs": [
    {
     "data": {
      "text/plain": [
       "Positive             8\n",
       "Neutral              6\n",
       "Strongly Positive    4\n",
       "Weakly Positive      1\n",
       "Weakly Negative      1\n",
       "Name: polarity, dtype: int64"
      ]
     },
     "execution_count": 22,
     "metadata": {},
     "output_type": "execute_result"
    }
   ],
   "source": [
    "tweet_df['polarity'].value_counts()"
   ]
  },
  {
   "cell_type": "code",
   "execution_count": 23,
   "metadata": {},
   "outputs": [
    {
     "data": {
      "text/plain": [
       "0               object\n",
       "cleaned_data    object\n",
       "polarity        object\n",
       "dtype: object"
      ]
     },
     "execution_count": 23,
     "metadata": {},
     "output_type": "execute_result"
    }
   ],
   "source": [
    "tweet_df.dtypes"
   ]
  },
  {
   "cell_type": "code",
   "execution_count": 25,
   "metadata": {},
   "outputs": [],
   "source": [
    "neutral = 0\n",
    "wpositive = 0\n",
    "spositive = 0\n",
    "positive = 0\n",
    "negative = 0\n",
    "wnegative = 0\n",
    "snegative = 0\n",
    "polarity = 0\n",
    "\n",
    "for i in range(0,20):\n",
    "    textblob = TextBlob(str(tweet_df['cleaned_data'][i]))\n",
    "    polarity+= textblob.sentiment.polarity\n",
    "    pol = textblob.sentiment.polarity\n",
    "    if (pol == 0):  # adding reaction of how people are reacting to find average later\n",
    "        neutral += 1\n",
    "    elif (pol > 0 and pol <= 0.3):\n",
    "        wpositive += 1\n",
    "    elif (pol > 0.3 and pol <= 0.6):\n",
    "        positive += 1\n",
    "    elif (pol > 0.6 and pol <= 1):\n",
    "        spositive += 1\n",
    "    elif (pol > -0.3 and pol <= 0):\n",
    "        wnegative += 1\n",
    "    elif (pol > -0.6 and pol <= -0.3):\n",
    "        negative += 1\n",
    "    elif (pol > -1 and pol <= -0.6):\n",
    "        snegative += 1"
   ]
  },
  {
   "cell_type": "code",
   "execution_count": 26,
   "metadata": {},
   "outputs": [
    {
     "data": {
      "text/plain": [
       "0.4077272727272726"
      ]
     },
     "execution_count": 26,
     "metadata": {},
     "output_type": "execute_result"
    }
   ],
   "source": [
    "#finding average reaction\n",
    "polarity = polarity / NoOfTerms\n",
    "polarity"
   ]
  },
  {
   "cell_type": "code",
   "execution_count": 27,
   "metadata": {},
   "outputs": [],
   "source": [
    "def percentage(part, whole):\n",
    "    temp = 100 * float(part) / float(whole)\n",
    "    return format(temp, '.2f')"
   ]
  },
  {
   "cell_type": "code",
   "execution_count": 28,
   "metadata": {},
   "outputs": [],
   "source": [
    " # finding average of how people are reacting\n",
    "positive = percentage(positive, NoOfTerms)\n",
    "wpositive = percentage(wpositive, NoOfTerms)\n",
    "spositive = percentage(spositive, NoOfTerms)\n",
    "negative = percentage(negative, NoOfTerms)\n",
    "wnegative = percentage(wnegative, NoOfTerms)\n",
    "snegative = percentage(snegative, NoOfTerms)\n",
    "neutral = percentage(neutral, NoOfTerms)"
   ]
  },
  {
   "cell_type": "code",
   "execution_count": 29,
   "metadata": {},
   "outputs": [
    {
     "name": "stdout",
     "output_type": "stream",
     "text": [
      "How people are reacting on Anushka Sharma by analyzing 20 tweets.\n",
      "\n",
      "-----------------------------------------------------------------------------------------\n",
      "\n",
      "General Report: \n",
      "Positive\n",
      "\n",
      "------------------------------------------------------------------------------------------\n",
      "\n",
      "Detailed Report: \n",
      "40.00% people thought it was positive\n",
      "5.00% people thought it was weakly positive\n",
      "20.00% people thought it was strongly positive\n",
      "0.00% people thought it was negative\n",
      "5.00% people thought it was weakly negative\n",
      "0.00% people thought it was strongly negative\n",
      "30.00% people thought it was neutral\n"
     ]
    }
   ],
   "source": [
    " # printing out data\n",
    "print(\"How people are reacting on \" + searchTerm + \" by analyzing \" + str(NoOfTerms) + \" tweets.\")\n",
    "print()\n",
    "print(\"-----------------------------------------------------------------------------------------\")\n",
    "print()\n",
    "print(\"General Report: \")\n",
    "\n",
    "if (polarity == 0):\n",
    "    print(\"Neutral\")\n",
    "elif (polarity > 0 and polarity <= 0.3):\n",
    "    print(\"Weakly Positive\")\n",
    "elif (polarity > 0.3 and polarity <= 0.6):\n",
    "    print(\"Positive\")\n",
    "elif (polarity > 0.6 and polarity <= 1):\n",
    "    print(\"Strongly Positive\")\n",
    "elif (polarity > -0.3 and polarity <= 0):\n",
    "    print(\"Weakly Negative\")\n",
    "elif (polarity > -0.6 and polarity <= -0.3):\n",
    "    print(\"Negative\")\n",
    "elif (polarity > -1 and polarity <= -0.6):\n",
    "    print(\"Strongly Negative\")\n",
    "\n",
    "print()\n",
    "print(\"------------------------------------------------------------------------------------------\")\n",
    "print()\n",
    "print(\"Detailed Report: \")\n",
    "print(str(positive) + \"% people thought it was positive\")\n",
    "print(str(wpositive) + \"% people thought it was weakly positive\")\n",
    "print(str(spositive) + \"% people thought it was strongly positive\")\n",
    "print(str(negative) + \"% people thought it was negative\")\n",
    "print(str(wnegative) + \"% people thought it was weakly negative\")\n",
    "print(str(snegative) + \"% people thought it was strongly negative\")\n",
    "print(str(neutral) + \"% people thought it was neutral\")"
   ]
  },
  {
   "cell_type": "code",
   "execution_count": 30,
   "metadata": {},
   "outputs": [],
   "source": [
    "sizes = [positive, wpositive, spositive, neutral, negative, wnegative, snegative]\n",
    "colors = ['yellowgreen','lightgreen','darkgreen', 'gold', 'red','lightsalmon','darkred']\n",
    "labels = ['Positive [' + str(positive) + '%]', 'Weakly Positive [' + str(wpositive) + '%]',\n",
    "          'Strongly Positive [' + str(spositive) + '%]', 'Neutral [' + str(neutral) + '%]',\n",
    "          'Negative [' + str(negative) + '%]', 'Weakly Negative [' + str(wnegative) + '%]', \n",
    "          'Strongly Negative [' + str(snegative) + '%]']"
   ]
  },
  {
   "cell_type": "code",
   "execution_count": 31,
   "metadata": {},
   "outputs": [
    {
     "data": {
      "image/png": "[encoded data removed]",
      "text/plain": [
       "<Figure size 432x288 with 1 Axes>"
      ]
     },
     "metadata": {},
     "output_type": "display_data"
    }
   ],
   "source": [
    "plt.pie(sizes, labels = labels, colors = colors)\n",
    "plt.legend(labels, loc=\"best\")\n",
    "plt.title('How people are reacting on ' + searchTerm + ' by analyzing ' + str(NoOfTerms) + ' Tweets.')\n",
    "plt.axis('equal')\n",
    "plt.tight_layout()\n",
    "plt.show()"
   ]
  },
  {
   "cell_type": "code",
   "execution_count": null,
   "metadata": {},
   "outputs": [],
   "source": []
  }
 ],
 "metadata": {
  "kernelspec": {
   "display_name": "Python 3 (ipykernel)",
   "language": "python",
   "name": "python3"
  },
  "language_info": {
   "codemirror_mode": {
    "name": "ipython",
    "version": 3
   },
   "file_extension": ".py",
   "mimetype": "text/x-python",
   "name": "python",
   "nbconvert_exporter": "python",
   "pygments_lexer": "ipython3",
   "version": "3.9.6"
  }
 },
 "nbformat": 4,
 "nbformat_minor": 2
}
